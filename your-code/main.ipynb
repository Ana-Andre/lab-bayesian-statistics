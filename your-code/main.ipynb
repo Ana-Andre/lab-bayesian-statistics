{
 "cells": [
  {
   "cell_type": "markdown",
   "metadata": {},
   "source": [
    "# Intro to Bayesian Statistics Lab\n",
    "\n",
    "Complete the following set of exercises to solidify your knowledge of Bayesian statistics and Bayesian data analysis."
   ]
  },
  {
   "cell_type": "code",
   "execution_count": 1,
   "metadata": {},
   "outputs": [],
   "source": [
    "import pandas as pd\n",
    "import numpy as np\n",
    "import matplotlib.pyplot as plt"
   ]
  },
  {
   "cell_type": "markdown",
   "metadata": {},
   "source": [
    "## 1. Cookie Problem\n",
    "\n",
    "Suppose we have two bowls of cookies. Bowl 1 contains 30 vanilla cookies and 10 chocolate cookies. Bowl 2 contains 20 of each. You randomly pick one cookie out of one of the bowls, and it is vanilla. Use Bayes Theorem to calculate the probability that the vanilla cookie you picked came from Bowl 1?"
   ]
  },
  {
   "cell_type": "code",
   "execution_count": 2,
   "metadata": {},
   "outputs": [
    {
     "data": {
      "text/plain": [
       "'\\nP(bowl1) = 1/2\\nP(bowl2) = 1/2\\nP(vanilla|bowl1) = 3/4\\nP(choco|bowl1) = 1/4\\ntotal_cookies_b1 = 40\\nP(bowl2) = 0.5\\nP(choco|bowl2) = 1/2\\nP(vanilla|bowl2) = 1/2\\ntotal_cookies_b2 = 40\\n\\nP(bow1|vanilla) = (P(vanilla|bowl1) * P(bowl1)) / P(vanilla) = (3/4 * 1/2) / (5/8) = 3/5 = 0.6\\n\\nP(vanilla) = P(bowl1) * P(vanilla|bowl1) + P(bowl2) * P(vanilla|bowl2) = 1/2 * 3/4 + 1/2 * 1/2 = 5/8 = 0.625\\n\\nThe probability that the vanilla cookie was picked up from Bowl 1 is 0.6.\\n'"
      ]
     },
     "execution_count": 2,
     "metadata": {},
     "output_type": "execute_result"
    }
   ],
   "source": [
    "'''\n",
    "P(bowl1) = 1/2\n",
    "P(bowl2) = 1/2\n",
    "P(vanilla|bowl1) = 3/4\n",
    "P(choco|bowl1) = 1/4\n",
    "total_cookies_b1 = 40\n",
    "P(bowl2) = 0.5\n",
    "P(choco|bowl2) = 1/2\n",
    "P(vanilla|bowl2) = 1/2\n",
    "total_cookies_b2 = 40\n",
    "\n",
    "P(bow1|vanilla) = (P(vanilla|bowl1) * P(bowl1)) / P(vanilla) = (3/4 * 1/2) / (5/8) = 3/5 = 0.6\n",
    "\n",
    "P(vanilla) = P(bowl1) * P(vanilla|bowl1) + P(bowl2) * P(vanilla|bowl2) = 1/2 * 3/4 + 1/2 * 1/2 = 5/8 = 0.625\n",
    "\n",
    "The probability that the vanilla cookie was picked up from Bowl 1 is 0.6.\n",
    "'''\n"
   ]
  },
  {
   "cell_type": "markdown",
   "metadata": {},
   "source": [
    "What is the probability that it came from Bowl 2?"
   ]
  },
  {
   "cell_type": "code",
   "execution_count": 3,
   "metadata": {},
   "outputs": [
    {
     "data": {
      "text/plain": [
       "'\\nP(bowl2) = 1 - P(bowl1) = 1 - 0.6 = 0.4\\n'"
      ]
     },
     "execution_count": 3,
     "metadata": {},
     "output_type": "execute_result"
    }
   ],
   "source": [
    "'''\n",
    "P(bowl2) = 1 - P(bowl1) = 1 - 0.6 = 0.4\n",
    "'''"
   ]
  },
  {
   "cell_type": "markdown",
   "metadata": {},
   "source": [
    "What if the cookie you had picked was chocolate? What are the probabilities that the chocolate cookie came from Bowl 1 and Bowl 2 respectively?"
   ]
  },
  {
   "cell_type": "code",
   "execution_count": null,
   "metadata": {},
   "outputs": [],
   "source": [
    "'''\n",
    "P(bow1|chocolate) = (P(chocolate|bowl1) * P(bowl1)) / P(chocolate) = (1/4 * 1/2) / 0.375 = 1/3 = 0.33\n",
    "\n",
    "P(chocolate) = P(bowl1) * P(chocolate|bowl1) + P(bowl2) * P(chocolate|bowl2) = 1/2 * 1/4 + 1/2 * 1/2 = 3/8 = 0.375\n",
    "\n",
    "The probability that the chocolate cookie was picked up from Bowl 1 is 0.33.\n",
    "\n",
    "P(bowl2) = 1 - P(bowl1) = 1 - 0.33 = 0.77\n",
    "\n",
    "The probability that the chocolate cookie was picked up from Bowl 2 is 0.67.\n",
    "'''"
   ]
  },
  {
   "cell_type": "markdown",
   "metadata": {},
   "source": [
    "## 2. Candy Problem\n",
    "\n",
    "Suppose you have two bags of candies:\n",
    "\n",
    "- In Bag 1, the mix of colors is:\n",
    "    - Brown - 30%\n",
    "    - Yellow - 20%\n",
    "    - Red - 20%\n",
    "    - Green - 10%\n",
    "    - Orange - 10%\n",
    "    - Tan - 10%\n",
    "    \n",
    "- In Bag 2, the mix of colors is:\n",
    "    - Blue - 24%\n",
    "    - Green - 20%\n",
    "    - Orange - 16%\n",
    "    - Yellow - 14%\n",
    "    - Red - 13%\n",
    "    - Brown - 13%\n",
    "    \n",
    "Not knowing which bag is which, you randomly draw one candy from each bag. One is yellow and one is green. What is the probability that the yellow one came from the Bag 1?\n",
    "\n",
    "*Hint: For the likelihoods, you will need to multiply the probabilities of drawing yellow from one bag and green from the other bag and vice versa.*"
   ]
  },
  {
   "cell_type": "code",
   "execution_count": null,
   "metadata": {},
   "outputs": [],
   "source": [
    "'''\n",
    "P(bag1) = 1/2\n",
    "P(bag2) = 1/2\n",
    "P(yellow|bag1) = 0.2\n",
    "P(green|bag2) = 0.2\n",
    "P(yellow|bag2) = 0.14\n",
    "\n",
    "P(bag1|yellow | green|bag2) = (P(yellow|bag1 | green|bag2) * P(bag1)) / P(yellow) \n",
    "                            = ((0.2 * 0.2) * 0.5) / ((0.2*0.2)*0.5 + (0.1* 0.14)*0.5) = 0.74\n",
    "                 \n",
    "                     \n",
    "the probability is 0.74.\n",
    "'''"
   ]
  },
  {
   "cell_type": "markdown",
   "metadata": {},
   "source": [
    "What is the probability that the yellow candy came from Bag 2?"
   ]
  },
  {
   "cell_type": "code",
   "execution_count": null,
   "metadata": {},
   "outputs": [],
   "source": [
    "'''\n",
    "P(bag2|yellow | green|bag1) = (P(yellow|bag2 | green|bag1) * P(bag2)) / P(yellow) \n",
    "                            = ((0.14 * 0.1) * 0.5) / ((0.2*0.2)*0.5 + (0.1* 0.14)*0.5) = 0.259\n",
    "                            \n",
    "the probability is 0.259.\n",
    "\n",
    "'''"
   ]
  },
  {
   "cell_type": "markdown",
   "metadata": {},
   "source": [
    "What are the probabilities that the green one came from Bag 1 and Bag 2 respectively?"
   ]
  },
  {
   "cell_type": "code",
   "execution_count": null,
   "metadata": {},
   "outputs": [],
   "source": [
    "'''\n",
    "\n",
    "P(bag1|green | yellow|bag2) = (P(green|bag1 | yellow|bag2) * P(bag1)) / P(green) \n",
    "                            = ((0.1 * 0.14) * 0.5) / ((0.2*0.2)*0.5 + (0.1* 0.14)*0.5) = 0.259\n",
    "                    \n",
    "the probability is 0.259.\n",
    "\n",
    "\n",
    "P(bag2|green | yellow|bag1) = (P(green|bag2 | yellow|bag1) * P(bag2)) / P(green) \n",
    "                            = ((0.2 * 0.2) * 0.5) / ((0.2*0.2)*0.5 + (0.1* 0.14)*0.5) = 0.74\n",
    "                            \n",
    "the probability is 0.74.\n",
    "\n",
    "\n",
    "'''"
   ]
  },
  {
   "cell_type": "markdown",
   "metadata": {},
   "source": [
    "## 3. Monty Hall Problem\n",
    "\n",
    "Suppose you are a contestant on the popular game show *Let's Make a Deal*. The host of the show (Monty Hall) presents you with three doors - Door A, Door B, and Door C. He tells you that there is a sports car behind one of them and if you choose the correct one, you win the car!\n",
    "\n",
    "You select Door A, but then Monty makes things a little more interesting. He opens Door B to reveal that there is no sports car behind it and asks you if you would like to stick with your choice of Door A or switch your choice to Door C. Given this new information, what are the probabilities of you winning the car if you stick with Door A versus if you switch to Door C?"
   ]
  },
  {
   "cell_type": "code",
   "execution_count": 1,
   "metadata": {},
   "outputs": [
    {
     "data": {
      "text/plain": [
       "\"\\nIf I sitck with Door A the probability of winning the car is 1/3 and if I stick with Door C it's 2/3.\\nWhen I pick a door and hold, I have a 1/3 of chance of winningm so the other door must have the rest of the changes,\\nmeaning 2/3.\\n\""
      ]
     },
     "execution_count": 1,
     "metadata": {},
     "output_type": "execute_result"
    }
   ],
   "source": [
    "'''\n",
    "If I sitck with Door A the probability of winning the car is 1/3 and if I stick with Door C it's 2/3.\n",
    "When I pick a door and hold, I have a 1/3 of chance of winningm so the other door must have the rest of the changes,\n",
    "meaning 2/3.\n",
    "'''"
   ]
  },
  {
   "cell_type": "code",
   "execution_count": null,
   "metadata": {},
   "outputs": [],
   "source": []
  }
 ],
 "metadata": {
  "kernelspec": {
   "display_name": "Python 3",
   "language": "python",
   "name": "python3"
  },
  "language_info": {
   "codemirror_mode": {
    "name": "ipython",
    "version": 3
   },
   "file_extension": ".py",
   "mimetype": "text/x-python",
   "name": "python",
   "nbconvert_exporter": "python",
   "pygments_lexer": "ipython3",
   "version": "3.7.3"
  }
 },
 "nbformat": 4,
 "nbformat_minor": 2
}
